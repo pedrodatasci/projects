{
 "cells": [
  {
   "cell_type": "markdown",
   "id": "4c0f3448",
   "metadata": {},
   "source": [
    "### Algoritmo para determinar quando um ecommerce completou 5 vendas"
   ]
  },
  {
   "cell_type": "code",
   "execution_count": 1,
   "id": "e699725c",
   "metadata": {},
   "outputs": [],
   "source": [
    "import pandas as pd\n",
    "from datetime import datetime, timedelta\n",
    "from sshtunnel import SSHTunnelForwarder\n",
    "import pymysql\n",
    "from sqlalchemy import create_engine\n",
    "import paramiko"
   ]
  },
  {
   "cell_type": "markdown",
   "id": "d6ab58b4",
   "metadata": {},
   "source": [
    "### 1. Funções"
   ]
  },
  {
   "cell_type": "code",
   "execution_count": 3,
   "id": "5ca67fc6",
   "metadata": {},
   "outputs": [],
   "source": [
    "# função para realizar queries e as transformar em dataframes\n",
    "# conexão feita via chave ssh\n",
    "\n",
    "def query_ssh(query):\n",
    "    mypkey = paramiko.RSAKey.from_private_key_file(path)\n",
    "    sql_hostname = '***********'\n",
    "    sql_username = 'root'\n",
    "    sql_password = '***********'\n",
    "    sql_main_database = 'sistema'\n",
    "    sql_port = 3306\n",
    "    ssh_host = '*********'\n",
    "    ssh_user = '**********'\n",
    "    ssh_port = 22\n",
    "    ssh_psw = '****'\n",
    "\n",
    "    with SSHTunnelForwarder(\n",
    "            (ssh_host, ssh_port),\n",
    "            ssh_username=ssh_user,\n",
    "            ssh_password=ssh_psw,\n",
    "            ssh_pkey=mypkey,\n",
    "            remote_bind_address=(sql_hostname, sql_port)) as tunnel:\n",
    "            conn = pymysql.connect(host='*******', user=sql_username,\n",
    "            passwd=sql_password, db=sql_main_database,\n",
    "            port=tunnel.local_bind_port)\n",
    "            base = pd.read_sql_query(query, conn) # utiliza a conexão e a query fornecida a função para criar o dataframe\n",
    "            conn.close()\n",
    "            return base\n",
    "        \n",
    "# algoritmo para saber quando os parceiros completaram 5 pedidos aprovados\n",
    "\n",
    "def coleta_5_vendas(df, lista, lista_verificar):\n",
    "    y=0 # inicia o contador em 0\n",
    "    for row in df.itertuples(): # usamos itertuples para iterar o dataframe\n",
    "        y += row[4] # soma a quantidade na linha\n",
    "        if y >= 5: # se essa soma for maior ou igual a 5\n",
    "            user_id, company_id,company_name,date,qtd = row[5],row[3], row[2], row[1], y \n",
    "            lista.append([id_usuario, id_empresa,nome_empresa,data,qtd]) # appenda informações na lista\n",
    "            break # break no loop, pois ja sabemos a data em que pelo menos 5 vendas foram completadas\n",
    "    else:\n",
    "        id_usuario, id_empresa,nome_empresa,date,qtd = row[5],row[3], row[2], row[1], y\n",
    "        lista_verificar.append([id_usuario, id_empresa,nome_empresa,data,qtd])"
   ]
  },
  {
   "cell_type": "markdown",
   "id": "b92e24f8",
   "metadata": {},
   "source": [
    "### 2. Rodando o algoritmo"
   ]
  },
  {
   "cell_type": "code",
   "execution_count": null,
   "id": "18ed3a29",
   "metadata": {},
   "outputs": [],
   "source": [
    "# listas para alimentar com as informações\n",
    "lista = []\n",
    "lista_verificar = []\n",
    "\n",
    "# query para passar para a função query_ssh()\n",
    "query = '''\n",
    "SELECT date, name, company_id, sum(approved_orders), user_id\n",
    "FROM table\n",
    "GROUP BY date, company_id\n",
    "'''\n",
    "\n",
    "# dataset\n",
    "dataset = query_ssh(query)\n",
    "\n",
    "# array com todos os nomes únicos de empresas\n",
    "empresas_unicas = dataset['name'].unique()\n",
    "\n",
    "# loop para rodar o algoritmo para cada empresa\n",
    "for emp in empresas_unicas:\n",
    "    coleta_5_vendas(dataset.loc[dataset['name'] == str(emp)], lista, lista_verificar)"
   ]
  },
  {
   "cell_type": "markdown",
   "id": "2e342fce",
   "metadata": {},
   "source": [
    "### 3. Resultado"
   ]
  },
  {
   "cell_type": "markdown",
   "id": "29acfb5f",
   "metadata": {},
   "source": [
    "#### Temos a data e a quantidade do dia em que cada empresa completou 5 ou mais vendas"
   ]
  },
  {
   "cell_type": "code",
   "execution_count": null,
   "id": "078613a0",
   "metadata": {},
   "outputs": [],
   "source": [
    "df_final = pd.DataFrame(lista)\n",
    "df_final.rename(columns={0: 'Id_Usuario', 1:'ID Empresa', 2:'Empresa', 3:'data', 4:'QTD acumulada no dia'}, \n",
    "                inplace=True)\n",
    "final"
   ]
  },
  {
   "attachments": {
    "image.png": {
     "image/png": "[encoded data removed]"
    }
   },
   "cell_type": "markdown",
   "id": "f579d795",
   "metadata": {},
   "source": [
    "![image.png](attachment:image.png)"
   ]
  },
  {
   "cell_type": "code",
   "execution_count": null,
   "id": "26b2c9b0",
   "metadata": {},
   "outputs": [],
   "source": []
  }
 ],
 "metadata": {
  "kernelspec": {
   "display_name": "Python 3",
   "language": "python",
   "name": "python3"
  },
  "language_info": {
   "codemirror_mode": {
    "name": "ipython",
    "version": 3
   },
   "file_extension": ".py",
   "mimetype": "text/x-python",
   "name": "python",
   "nbconvert_exporter": "python",
   "pygments_lexer": "ipython3",
   "version": "3.8.8"
  }
 },
 "nbformat": 4,
 "nbformat_minor": 5
}
