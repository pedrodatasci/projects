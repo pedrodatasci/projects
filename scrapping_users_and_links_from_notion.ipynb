{
 "cells": [
  {
   "cell_type": "markdown",
   "id": "cd3a9f4b",
   "metadata": {},
   "source": [
    "### Let's import what we need first"
   ]
  },
  {
   "cell_type": "code",
   "execution_count": 61,
   "id": "84a8138b",
   "metadata": {},
   "outputs": [],
   "source": [
    "from bs4 import BeautifulSoup\n",
    "import pandas as pd"
   ]
  },
  {
   "cell_type": "markdown",
   "id": "f52e6167",
   "metadata": {},
   "source": [
    "### Then we open the html file and create a bs4 soup with it"
   ]
  },
  {
   "cell_type": "code",
   "execution_count": 167,
   "id": "e1142591",
   "metadata": {},
   "outputs": [],
   "source": [
    "with open('partners.html', encoding=\"utf8\") as file:\n",
    "    soup = BeautifulSoup(file, 'html.parser')"
   ]
  },
  {
   "cell_type": "markdown",
   "id": "0e731998",
   "metadata": {},
   "source": [
    "### Now let's scrap what we need!"
   ]
  },
  {
   "cell_type": "code",
   "execution_count": 171,
   "id": "5edc9358",
   "metadata": {},
   "outputs": [],
   "source": [
    "# in this case, first of all, we need some links\n",
    "# these links are contained in the 'href' tag inside an 'a' tag inside the class \"cell-title\" in 'td' tag \n",
    "\n",
    "tds = soup.find_all(\"td\", {\"class\": \"cell-title\"}) # using find_all we can select the tag and the class\n",
    "\n",
    "links = [] # creating an empty list\n",
    "\n",
    "for line in tds: # iterating over the lines in tds object\n",
    "    line = str(line)[32:] # first we'll catch only what's after href\n",
    "    end = line.find('\">') # then we find the index the ends the href\n",
    "    line = str(line)[:end] # and catch only the link\n",
    "    links.append(line) # then append to the list\n"
   ]
  },
  {
   "cell_type": "markdown",
   "id": "845d1259",
   "metadata": {},
   "source": [
    "### The result is a list of string with each link:\n",
    "\n",
    "['https://www.notion.so/xxxxx1',\n",
    " 'https://www.notion.so/xxxxx2',\n",
    " 'https://www.notion.so/xxxxx3']"
   ]
  },
  {
   "cell_type": "markdown",
   "id": "82ca8e98",
   "metadata": {},
   "source": [
    "### Now I'll open the table inside the html as a pandas DataFrame"
   ]
  },
  {
   "cell_type": "code",
   "execution_count": 174,
   "id": "f14328c0",
   "metadata": {},
   "outputs": [],
   "source": [
    "# first we read the html file and select the only table inside\n",
    "aux1 = pd.read_html(str(soup))[0]\n",
    "\n",
    "# then we select only the column that we need\n",
    "df = pd.DataFrame(aux['User'])\n",
    "\n",
    "# then we add the scrapped links from before as a new column \n",
    "# since the users and the links are in the same order there is no need for ordering\n",
    "df['Link'] = links"
   ]
  },
  {
   "attachments": {
    "image-3.png": {
     "image/png": "[encoded data removed]"
    }
   },
   "cell_type": "markdown",
   "id": "657877e5",
   "metadata": {},
   "source": [
    "### This is the result:\n",
    "\n",
    "![image-3.png](attachment:image-3.png)"
   ]
  },
  {
   "cell_type": "markdown",
   "id": "86f85db1",
   "metadata": {},
   "source": [
    "### Now we save as an excel file"
   ]
  },
  {
   "cell_type": "code",
   "execution_count": 170,
   "id": "fe03b2dd",
   "metadata": {},
   "outputs": [],
   "source": [
    "df.to_excel('notion_user_link.xlsx')"
   ]
  }
 ],
 "metadata": {
  "kernelspec": {
   "display_name": "Python 3",
   "language": "python",
   "name": "python3"
  },
  "language_info": {
   "codemirror_mode": {
    "name": "ipython",
    "version": 3
   },
   "file_extension": ".py",
   "mimetype": "text/x-python",
   "name": "python",
   "nbconvert_exporter": "python",
   "pygments_lexer": "ipython3",
   "version": "3.8.8"
  }
 },
 "nbformat": 4,
 "nbformat_minor": 5
}
